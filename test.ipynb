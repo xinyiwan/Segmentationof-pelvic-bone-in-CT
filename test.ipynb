{
 "cells": [
  {
   "cell_type": "code",
   "execution_count": 2,
   "metadata": {},
   "outputs": [],
   "source": [
    "import os\n",
    "import numpy as np\n",
    "import SimpleITK as sitk\n",
    "import matplotlib.pyplot as plt\n",
    "import sklearn\n",
    "from sklearn.svm import SVC\n",
    "from sklearn import metrics\n",
    "from sklearn.model_selection import cross_val_score\n"
   ]
  },
  {
   "cell_type": "code",
   "execution_count": 9,
   "metadata": {},
   "outputs": [],
   "source": [
    "fix_img = sitk.ReadImage('/Users/xinyi/Documents/GitHub/Segmentationof-pelvic-bone-in-CT/data/common_40_image.nii.gz', sitk.sitkFloat32)\n",
    "fix_mask = sitk.ReadImage('/Users/xinyi/Documents/GitHub/Segmentationof-pelvic-bone-in-CT/data/common_40_mask.nii.gz', sitk.sitkFloat32)"
   ]
  },
  {
   "cell_type": "code",
   "execution_count": 10,
   "metadata": {},
   "outputs": [],
   "source": [
    "fix_img_data = sitk.GetArrayFromImage(fix_img)\n",
    "fix_mask_data = sitk.GetArrayFromImage(fix_mask)"
   ]
  },
  {
   "cell_type": "code",
   "execution_count": 15,
   "metadata": {},
   "outputs": [
    {
     "data": {
      "text/plain": [
       "array([0., 1., 2., 3., 4., 5.], dtype=float32)"
      ]
     },
     "execution_count": 15,
     "metadata": {},
     "output_type": "execute_result"
    }
   ],
   "source": [
    "np.unique(fix_mask_data)"
   ]
  },
  {
   "cell_type": "code",
   "execution_count": 13,
   "metadata": {},
   "outputs": [
    {
     "name": "stderr",
     "output_type": "stream",
     "text": [
      "WARNING: In /usr/local/miniconda/envs/bld/conda-bld/simpleitk_1627301570252/work/build/ITK/Modules/IO/Meta/src/itkMetaImageIO.cxx, line 669\n",
      "MetaImageIO (0x7f93f1bac400): Unsupported or empty metaData item ITK_FileNotes of type NSt3__112basic_stringIcNS_11char_traitsIcEENS_9allocatorIcEEEEfound, won't be written to image file\n",
      "\n",
      "WARNING: In /usr/local/miniconda/envs/bld/conda-bld/simpleitk_1627301570252/work/build/ITK/Modules/IO/Meta/src/itkMetaImageIO.cxx, line 669\n",
      "MetaImageIO (0x7f93f1bac400): Unsupported or empty metaData item aux_file of type NSt3__112basic_stringIcNS_11char_traitsIcEENS_9allocatorIcEEEEfound, won't be written to image file\n",
      "\n",
      "WARNING: In /usr/local/miniconda/envs/bld/conda-bld/simpleitk_1627301570252/work/build/ITK/Modules/IO/Meta/src/itkMetaImageIO.cxx, line 669\n",
      "MetaImageIO (0x7f93f1bac400): Unsupported or empty metaData item descrip of type NSt3__112basic_stringIcNS_11char_traitsIcEENS_9allocatorIcEEEEfound, won't be written to image file\n",
      "\n",
      "WARNING: In /usr/local/miniconda/envs/bld/conda-bld/simpleitk_1627301570252/work/build/ITK/Modules/IO/Meta/src/itkMetaImageIO.cxx, line 669\n",
      "MetaImageIO (0x7f93f1bac400): Unsupported or empty metaData item intent_name of type NSt3__112basic_stringIcNS_11char_traitsIcEENS_9allocatorIcEEEEfound, won't be written to image file\n",
      "\n"
     ]
    },
    {
     "ename": "RuntimeError",
     "evalue": "Exception thrown in SimpleITK ImageViewer_Execute: ../../Code/IO/src/sitkImageViewer.cxx:620:\nsitk::ERROR: No ImageJ/Fiji application found.",
     "output_type": "error",
     "traceback": [
      "\u001b[0;31m---------------------------------------------------------------------------\u001b[0m",
      "\u001b[0;31mRuntimeError\u001b[0m                              Traceback (most recent call last)",
      "\u001b[1;32m/Users/xinyi/Documents/GitHub/Segmentationof-pelvic-bone-in-CT/test.ipynb Cell 4\u001b[0m in \u001b[0;36m<cell line: 2>\u001b[0;34m()\u001b[0m\n\u001b[1;32m      <a href='vscode-notebook-cell:/Users/xinyi/Documents/GitHub/Segmentationof-pelvic-bone-in-CT/test.ipynb#W6sZmlsZQ%3D%3D?line=0'>1</a>\u001b[0m image_viewer \u001b[39m=\u001b[39m sitk\u001b[39m.\u001b[39mImageViewer()\n\u001b[0;32m----> <a href='vscode-notebook-cell:/Users/xinyi/Documents/GitHub/Segmentationof-pelvic-bone-in-CT/test.ipynb#W6sZmlsZQ%3D%3D?line=1'>2</a>\u001b[0m image_viewer\u001b[39m.\u001b[39;49mExecute(fix_img)\n",
      "File \u001b[0;32m/opt/anaconda3/lib/python3.8/site-packages/SimpleITK/SimpleITK.py:8402\u001b[0m, in \u001b[0;36mImageViewer.Execute\u001b[0;34m(self, image)\u001b[0m\n\u001b[1;32m   8393\u001b[0m \u001b[39mdef\u001b[39;00m \u001b[39mExecute\u001b[39m(\u001b[39mself\u001b[39m, image):\n\u001b[1;32m   8394\u001b[0m     \u001b[39mr\u001b[39m\u001b[39m\"\"\"\u001b[39;00m\n\u001b[1;32m   8395\u001b[0m \u001b[39m    Execute(ImageViewer self, Image image)\u001b[39;00m\n\u001b[1;32m   8396\u001b[0m \n\u001b[0;32m   (...)\u001b[0m\n\u001b[1;32m   8400\u001b[0m \n\u001b[1;32m   8401\u001b[0m \u001b[39m    \"\"\"\u001b[39;00m\n\u001b[0;32m-> 8402\u001b[0m     \u001b[39mreturn\u001b[39;00m _SimpleITK\u001b[39m.\u001b[39;49mImageViewer_Execute(\u001b[39mself\u001b[39;49m, image)\n",
      "\u001b[0;31mRuntimeError\u001b[0m: Exception thrown in SimpleITK ImageViewer_Execute: ../../Code/IO/src/sitkImageViewer.cxx:620:\nsitk::ERROR: No ImageJ/Fiji application found."
     ]
    }
   ],
   "source": [
    "image_viewer = sitk.ImageViewer()\n",
    "image_viewer.SetApplication('/usr/bin/itksnap')\n",
    "image_viewer.Execute(fix_img)"
   ]
  },
  {
   "cell_type": "code",
   "execution_count": null,
   "metadata": {},
   "outputs": [],
   "source": [
    "fix_mask"
   ]
  },
  {
   "cell_type": "code",
   "execution_count": 11,
   "metadata": {},
   "outputs": [
    {
     "data": {
      "text/plain": [
       "array([0., 1., 2., 3., 4., 5.], dtype=float32)"
      ]
     },
     "execution_count": 11,
     "metadata": {},
     "output_type": "execute_result"
    }
   ],
   "source": [
    "np.unique(fix_mask_data)"
   ]
  },
  {
   "cell_type": "code",
   "execution_count": null,
   "metadata": {},
   "outputs": [],
   "source": []
  }
 ],
 "metadata": {
  "kernelspec": {
   "display_name": "Python 3.8.8 ('base')",
   "language": "python",
   "name": "python3"
  },
  "language_info": {
   "codemirror_mode": {
    "name": "ipython",
    "version": 3
   },
   "file_extension": ".py",
   "mimetype": "text/x-python",
   "name": "python",
   "nbconvert_exporter": "python",
   "pygments_lexer": "ipython3",
   "version": "3.8.8"
  },
  "orig_nbformat": 4,
  "vscode": {
   "interpreter": {
    "hash": "40d3a090f54c6569ab1632332b64b2c03c39dcf918b08424e98f38b5ae0af88f"
   }
  }
 },
 "nbformat": 4,
 "nbformat_minor": 2
}
